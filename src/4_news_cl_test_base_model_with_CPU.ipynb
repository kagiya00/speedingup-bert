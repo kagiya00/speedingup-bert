{
 "cells": [
  {
   "cell_type": "markdown",
   "metadata": {
    "id": "rKMkiqyF5wyG"
   },
   "source": [
    "# ニューストピック分類 Base Modelの評価 with CPU\n",
    "\n"
   ]
  },
  {
   "cell_type": "markdown",
   "metadata": {
    "id": "2zFHVET7kwtm"
   },
   "source": [
    "## Google ドライブの接続  \n",
    "以下を実行。表示されるurlからGoogleアカウントにサイン。表示される認証用のコードを以下に表示されるテキストボックスにコピペ。  \n",
    "→ サインインしたGoogleアカウントのGoogleドライブがマウントされる。"
   ]
  },
  {
   "cell_type": "code",
   "execution_count": null,
   "metadata": {
    "colab": {
     "base_uri": "https://localhost:8080/"
    },
    "executionInfo": {
     "elapsed": 20327,
     "status": "ok",
     "timestamp": 1630884558014,
     "user": {
      "displayName": "Satoru Okiyama",
      "photoUrl": "",
      "userId": "12002199636701709339"
     },
     "user_tz": -540
    },
    "id": "7h7BA67Ed5wT",
    "outputId": "a7c7ec5d-910d-4b98-d868-c9cef82d4e68"
   },
   "outputs": [
    {
     "name": "stdout",
     "output_type": "stream",
     "text": [
      "Mounted at /content/drive/\n"
     ]
    }
   ],
   "source": [
    "from google.colab import drive\n",
    "drive.mount(\"/content/drive/\")"
   ]
  },
  {
   "cell_type": "markdown",
   "metadata": {
    "id": "j3rVdg4dgIFW"
   },
   "source": [
    "## 主な設定"
   ]
  },
  {
   "cell_type": "code",
   "execution_count": null,
   "metadata": {
    "id": "Ec9fxkXSgFBu"
   },
   "outputs": [],
   "source": [
    "data_path = '/content/drive/My Drive/Colab Notebooks/data'   # 作業用フォルダ"
   ]
  },
  {
   "cell_type": "markdown",
   "metadata": {
    "id": "1G_GUUkb6BZM"
   },
   "source": [
    "## ライブラリのインストール"
   ]
  },
  {
   "cell_type": "code",
   "execution_count": null,
   "metadata": {
    "colab": {
     "base_uri": "https://localhost:8080/"
    },
    "executionInfo": {
     "elapsed": 29193,
     "status": "ok",
     "timestamp": 1630884587203,
     "user": {
      "displayName": "Satoru Okiyama",
      "photoUrl": "",
      "userId": "12002199636701709339"
     },
     "user_tz": -540
    },
    "id": "aKxUK4pJ6BZM",
    "outputId": "85345c66-c9c5-42fa-9f75-edd9f7f37cb3"
   },
   "outputs": [
    {
     "name": "stdout",
     "output_type": "stream",
     "text": [
      "Collecting transformers==4.10\n",
      "  Downloading transformers-4.10.0-py3-none-any.whl (2.8 MB)\n",
      "\u001b[K     |████████████████████████████████| 2.8 MB 7.3 MB/s \n",
      "\u001b[?25hRequirement already satisfied: requests in /usr/local/lib/python3.7/dist-packages (from transformers==4.10) (2.23.0)\n",
      "Collecting tokenizers<0.11,>=0.10.1\n",
      "  Downloading tokenizers-0.10.3-cp37-cp37m-manylinux_2_5_x86_64.manylinux1_x86_64.manylinux_2_12_x86_64.manylinux2010_x86_64.whl (3.3 MB)\n",
      "\u001b[K     |████████████████████████████████| 3.3 MB 38.0 MB/s \n",
      "\u001b[?25hCollecting pyyaml>=5.1\n",
      "  Downloading PyYAML-5.4.1-cp37-cp37m-manylinux1_x86_64.whl (636 kB)\n",
      "\u001b[K     |████████████████████████████████| 636 kB 54.7 MB/s \n",
      "\u001b[?25hRequirement already satisfied: regex!=2019.12.17 in /usr/local/lib/python3.7/dist-packages (from transformers==4.10) (2019.12.20)\n",
      "Requirement already satisfied: importlib-metadata in /usr/local/lib/python3.7/dist-packages (from transformers==4.10) (4.6.4)\n",
      "Requirement already satisfied: filelock in /usr/local/lib/python3.7/dist-packages (from transformers==4.10) (3.0.12)\n",
      "Collecting sacremoses\n",
      "  Downloading sacremoses-0.0.45-py3-none-any.whl (895 kB)\n",
      "\u001b[K     |████████████████████████████████| 895 kB 34.2 MB/s \n",
      "\u001b[?25hRequirement already satisfied: tqdm>=4.27 in /usr/local/lib/python3.7/dist-packages (from transformers==4.10) (4.62.0)\n",
      "Requirement already satisfied: numpy>=1.17 in /usr/local/lib/python3.7/dist-packages (from transformers==4.10) (1.19.5)\n",
      "Requirement already satisfied: packaging in /usr/local/lib/python3.7/dist-packages (from transformers==4.10) (21.0)\n",
      "Collecting huggingface-hub>=0.0.12\n",
      "  Downloading huggingface_hub-0.0.16-py3-none-any.whl (50 kB)\n",
      "\u001b[K     |████████████████████████████████| 50 kB 5.2 MB/s \n",
      "\u001b[?25hRequirement already satisfied: typing-extensions in /usr/local/lib/python3.7/dist-packages (from huggingface-hub>=0.0.12->transformers==4.10) (3.7.4.3)\n",
      "Requirement already satisfied: pyparsing>=2.0.2 in /usr/local/lib/python3.7/dist-packages (from packaging->transformers==4.10) (2.4.7)\n",
      "Requirement already satisfied: zipp>=0.5 in /usr/local/lib/python3.7/dist-packages (from importlib-metadata->transformers==4.10) (3.5.0)\n",
      "Requirement already satisfied: certifi>=2017.4.17 in /usr/local/lib/python3.7/dist-packages (from requests->transformers==4.10) (2021.5.30)\n",
      "Requirement already satisfied: chardet<4,>=3.0.2 in /usr/local/lib/python3.7/dist-packages (from requests->transformers==4.10) (3.0.4)\n",
      "Requirement already satisfied: urllib3!=1.25.0,!=1.25.1,<1.26,>=1.21.1 in /usr/local/lib/python3.7/dist-packages (from requests->transformers==4.10) (1.24.3)\n",
      "Requirement already satisfied: idna<3,>=2.5 in /usr/local/lib/python3.7/dist-packages (from requests->transformers==4.10) (2.10)\n",
      "Requirement already satisfied: six in /usr/local/lib/python3.7/dist-packages (from sacremoses->transformers==4.10) (1.15.0)\n",
      "Requirement already satisfied: joblib in /usr/local/lib/python3.7/dist-packages (from sacremoses->transformers==4.10) (1.0.1)\n",
      "Requirement already satisfied: click in /usr/local/lib/python3.7/dist-packages (from sacremoses->transformers==4.10) (7.1.2)\n",
      "Installing collected packages: tokenizers, sacremoses, pyyaml, huggingface-hub, transformers\n",
      "  Attempting uninstall: pyyaml\n",
      "    Found existing installation: PyYAML 3.13\n",
      "    Uninstalling PyYAML-3.13:\n",
      "      Successfully uninstalled PyYAML-3.13\n",
      "Successfully installed huggingface-hub-0.0.16 pyyaml-5.4.1 sacremoses-0.0.45 tokenizers-0.10.3 transformers-4.10.0\n",
      "Collecting datasets==1.11\n",
      "  Downloading datasets-1.11.0-py3-none-any.whl (264 kB)\n",
      "\u001b[K     |████████████████████████████████| 264 kB 8.6 MB/s \n",
      "\u001b[?25hRequirement already satisfied: numpy>=1.17 in /usr/local/lib/python3.7/dist-packages (from datasets==1.11) (1.19.5)\n",
      "Requirement already satisfied: packaging in /usr/local/lib/python3.7/dist-packages (from datasets==1.11) (21.0)\n",
      "Requirement already satisfied: pandas in /usr/local/lib/python3.7/dist-packages (from datasets==1.11) (1.1.5)\n",
      "Requirement already satisfied: requests>=2.19.0 in /usr/local/lib/python3.7/dist-packages (from datasets==1.11) (2.23.0)\n",
      "Requirement already satisfied: huggingface-hub<0.1.0 in /usr/local/lib/python3.7/dist-packages (from datasets==1.11) (0.0.16)\n",
      "Requirement already satisfied: dill in /usr/local/lib/python3.7/dist-packages (from datasets==1.11) (0.3.4)\n",
      "Requirement already satisfied: importlib-metadata in /usr/local/lib/python3.7/dist-packages (from datasets==1.11) (4.6.4)\n",
      "Requirement already satisfied: tqdm>=4.42 in /usr/local/lib/python3.7/dist-packages (from datasets==1.11) (4.62.0)\n",
      "Requirement already satisfied: pyarrow!=4.0.0,>=1.0.0 in /usr/local/lib/python3.7/dist-packages (from datasets==1.11) (3.0.0)\n",
      "Collecting xxhash\n",
      "  Downloading xxhash-2.0.2-cp37-cp37m-manylinux2010_x86_64.whl (243 kB)\n",
      "\u001b[K     |████████████████████████████████| 243 kB 46.2 MB/s \n",
      "\u001b[?25hCollecting fsspec>=2021.05.0\n",
      "  Downloading fsspec-2021.8.1-py3-none-any.whl (119 kB)\n",
      "\u001b[K     |████████████████████████████████| 119 kB 57.2 MB/s \n",
      "\u001b[?25hRequirement already satisfied: multiprocess in /usr/local/lib/python3.7/dist-packages (from datasets==1.11) (0.70.12.2)\n",
      "Requirement already satisfied: typing-extensions in /usr/local/lib/python3.7/dist-packages (from huggingface-hub<0.1.0->datasets==1.11) (3.7.4.3)\n",
      "Requirement already satisfied: filelock in /usr/local/lib/python3.7/dist-packages (from huggingface-hub<0.1.0->datasets==1.11) (3.0.12)\n",
      "Requirement already satisfied: pyparsing>=2.0.2 in /usr/local/lib/python3.7/dist-packages (from packaging->datasets==1.11) (2.4.7)\n",
      "Requirement already satisfied: chardet<4,>=3.0.2 in /usr/local/lib/python3.7/dist-packages (from requests>=2.19.0->datasets==1.11) (3.0.4)\n",
      "Requirement already satisfied: certifi>=2017.4.17 in /usr/local/lib/python3.7/dist-packages (from requests>=2.19.0->datasets==1.11) (2021.5.30)\n",
      "Requirement already satisfied: idna<3,>=2.5 in /usr/local/lib/python3.7/dist-packages (from requests>=2.19.0->datasets==1.11) (2.10)\n",
      "Requirement already satisfied: urllib3!=1.25.0,!=1.25.1,<1.26,>=1.21.1 in /usr/local/lib/python3.7/dist-packages (from requests>=2.19.0->datasets==1.11) (1.24.3)\n",
      "Requirement already satisfied: zipp>=0.5 in /usr/local/lib/python3.7/dist-packages (from importlib-metadata->datasets==1.11) (3.5.0)\n",
      "Requirement already satisfied: python-dateutil>=2.7.3 in /usr/local/lib/python3.7/dist-packages (from pandas->datasets==1.11) (2.8.2)\n",
      "Requirement already satisfied: pytz>=2017.2 in /usr/local/lib/python3.7/dist-packages (from pandas->datasets==1.11) (2018.9)\n",
      "Requirement already satisfied: six>=1.5 in /usr/local/lib/python3.7/dist-packages (from python-dateutil>=2.7.3->pandas->datasets==1.11) (1.15.0)\n",
      "Installing collected packages: xxhash, fsspec, datasets\n",
      "Successfully installed datasets-1.11.0 fsspec-2021.8.1 xxhash-2.0.2\n",
      "Collecting fugashi==1.1\n",
      "  Downloading fugashi-1.1.0-cp37-cp37m-manylinux1_x86_64.whl (486 kB)\n",
      "\u001b[K     |████████████████████████████████| 486 kB 7.8 MB/s \n",
      "\u001b[?25hInstalling collected packages: fugashi\n",
      "Successfully installed fugashi-1.1.0\n",
      "Collecting ipadic==1.0\n",
      "  Downloading ipadic-1.0.0.tar.gz (13.4 MB)\n",
      "\u001b[K     |████████████████████████████████| 13.4 MB 6.5 MB/s \n",
      "\u001b[?25hBuilding wheels for collected packages: ipadic\n",
      "  Building wheel for ipadic (setup.py) ... \u001b[?25l\u001b[?25hdone\n",
      "  Created wheel for ipadic: filename=ipadic-1.0.0-py3-none-any.whl size=13556723 sha256=f4ef7a1aadb363ea57607c8ba91add48d64967224ff71154490841a370b4fafa\n",
      "  Stored in directory: /root/.cache/pip/wheels/33/8b/99/cf0d27191876637cd3639a560f93aa982d7855ce826c94348b\n",
      "Successfully built ipadic\n",
      "Installing collected packages: ipadic\n",
      "Successfully installed ipadic-1.0.0\n"
     ]
    }
   ],
   "source": [
    "!pip install transformers==4.10\n",
    "!pip install datasets==1.11\n",
    "!pip install fugashi==1.1\n",
    "!pip install ipadic==1.0"
   ]
  },
  {
   "cell_type": "code",
   "execution_count": null,
   "metadata": {
    "id": "iIKajtaQl092"
   },
   "outputs": [],
   "source": [
    "import os\n",
    "import torch\n",
    "import pandas as pd\n",
    "from transformers import BertForSequenceClassification, BertJapaneseTokenizer"
   ]
  },
  {
   "cell_type": "markdown",
   "metadata": {
    "id": "zZuJCZBK0RJx"
   },
   "source": [
    "## モデルの読み込み\n"
   ]
  },
  {
   "cell_type": "code",
   "execution_count": null,
   "metadata": {
    "id": "ZWtcQRuP0X45"
   },
   "outputs": [],
   "source": [
    "loaded_model = BertForSequenceClassification.from_pretrained(data_path) \n",
    "# loaded_model.cuda()\n",
    "loaded_tokenizer = BertJapaneseTokenizer.from_pretrained(data_path)"
   ]
  },
  {
   "cell_type": "markdown",
   "metadata": {
    "id": "Rq2zZ99R3Hs7"
   },
   "source": [
    "## テストデータの読み込み"
   ]
  },
  {
   "cell_type": "code",
   "execution_count": null,
   "metadata": {
    "colab": {
     "base_uri": "https://localhost:8080/"
    },
    "executionInfo": {
     "elapsed": 376,
     "status": "ok",
     "timestamp": 1630884609317,
     "user": {
      "displayName": "Satoru Okiyama",
      "photoUrl": "",
      "userId": "12002199636701709339"
     },
     "user_tz": -540
    },
    "id": "_lLkmiruOHZU",
    "outputId": "03a57f6b-faaa-4bd7-b5d6-0044c9f09e0b"
   },
   "outputs": [
    {
     "data": {
      "text/plain": [
       "0    dokujo-tsushin\n",
       "1    livedoor-homme\n",
       "2     kaden-channel\n",
       "3              smax\n",
       "4        topic-news\n",
       "5            peachy\n",
       "6       movie-enter\n",
       "7      it-life-hack\n",
       "8      sports-watch\n",
       "Name: name, dtype: object"
      ]
     },
     "execution_count": 6,
     "metadata": {},
     "output_type": "execute_result"
    }
   ],
   "source": [
    "cat_info = pd.read_csv(os.path.join(data_path, \"cat_info.csv\"), index_col=False)\n",
    "cat_names = cat_info['name']\n",
    "cat_names"
   ]
  },
  {
   "cell_type": "code",
   "execution_count": null,
   "metadata": {
    "colab": {
     "base_uri": "https://localhost:8080/",
     "height": 204
    },
    "executionInfo": {
     "elapsed": 560,
     "status": "ok",
     "timestamp": 1630884609875,
     "user": {
      "displayName": "Satoru Okiyama",
      "photoUrl": "",
      "userId": "12002199636701709339"
     },
     "user_tz": -540
    },
    "id": "aYedjOX9SKLC",
    "outputId": "6018d4d8-3420-4feb-ee8a-3921cf429930"
   },
   "outputs": [
    {
     "data": {
      "text/html": [
       "<div>\n",
       "<style scoped>\n",
       "    .dataframe tbody tr th:only-of-type {\n",
       "        vertical-align: middle;\n",
       "    }\n",
       "\n",
       "    .dataframe tbody tr th {\n",
       "        vertical-align: top;\n",
       "    }\n",
       "\n",
       "    .dataframe thead th {\n",
       "        text-align: right;\n",
       "    }\n",
       "</style>\n",
       "<table border=\"1\" class=\"dataframe\">\n",
       "  <thead>\n",
       "    <tr style=\"text-align: right;\">\n",
       "      <th></th>\n",
       "      <th>text</th>\n",
       "      <th>label</th>\n",
       "    </tr>\n",
       "  </thead>\n",
       "  <tbody>\n",
       "    <tr>\n",
       "      <th>0</th>\n",
       "      <td>2008年、”鉄の女”のニックネームを持つ元英国首相マーガレット・サッチャーが、実は認知症に...</td>\n",
       "      <td>5</td>\n",
       "    </tr>\n",
       "    <tr>\n",
       "      <th>1</th>\n",
       "      <td>箱根駅伝に出場し、4区を走った東京農業大学・内藤寛人選手の部屋の様子が日本テレビ系情報番組「...</td>\n",
       "      <td>4</td>\n",
       "    </tr>\n",
       "    <tr>\n",
       "      <th>2</th>\n",
       "      <td>キヤノンが女子に大人気の小物ブランド「Samantha Thavasa Petit Choi...</td>\n",
       "      <td>5</td>\n",
       "    </tr>\n",
       "    <tr>\n",
       "      <th>3</th>\n",
       "      <td>アレクサンドル・デュマの名作文学『三銃士』が、現代の壮大なエンタテインメント作品として生まれ...</td>\n",
       "      <td>5</td>\n",
       "    </tr>\n",
       "    <tr>\n",
       "      <th>4</th>\n",
       "      <td>悪質なコンピュータウイルスが氾濫しているWindowsに対して「Macは安全」とされる。Ma...</td>\n",
       "      <td>7</td>\n",
       "    </tr>\n",
       "  </tbody>\n",
       "</table>\n",
       "</div>"
      ],
      "text/plain": [
       "                                                text  label\n",
       "0  2008年、”鉄の女”のニックネームを持つ元英国首相マーガレット・サッチャーが、実は認知症に...      5\n",
       "1  箱根駅伝に出場し、4区を走った東京農業大学・内藤寛人選手の部屋の様子が日本テレビ系情報番組「...      4\n",
       "2  キヤノンが女子に大人気の小物ブランド「Samantha Thavasa Petit Choi...      5\n",
       "3  アレクサンドル・デュマの名作文学『三銃士』が、現代の壮大なエンタテインメント作品として生まれ...      5\n",
       "4  悪質なコンピュータウイルスが氾濫しているWindowsに対して「Macは安全」とされる。Ma...      7"
      ]
     },
     "execution_count": 7,
     "metadata": {},
     "output_type": "execute_result"
    }
   ],
   "source": [
    "news_test = pd.read_csv(\n",
    "    os.path.join(data_path, \"news_test.csv\" ), index_col=False)\n",
    "news_test.head()"
   ]
  },
  {
   "cell_type": "markdown",
   "metadata": {
    "id": "NH8EdUY9m39p"
   },
   "source": [
    "## サンプルデータの予測"
   ]
  },
  {
   "cell_type": "code",
   "execution_count": null,
   "metadata": {
    "id": "IvVHdT4esYpn"
   },
   "outputs": [],
   "source": [
    "# 形態素解析\n",
    "MAX_LENGTH = 512\n",
    "def tokenize(text):\n",
    "    words = loaded_tokenizer.tokenize(text)\n",
    "    word_ids = loaded_tokenizer.convert_tokens_to_ids(words)  # インデックスに変換\n",
    "    word_tensor = torch.tensor([word_ids[:MAX_LENGTH]])  # テンソルに変換\n",
    "    return word_tensor"
   ]
  },
  {
   "cell_type": "code",
   "execution_count": null,
   "metadata": {
    "colab": {
     "base_uri": "https://localhost:8080/"
    },
    "executionInfo": {
     "elapsed": 2318,
     "status": "ok",
     "timestamp": 1630884612189,
     "user": {
      "displayName": "Satoru Okiyama",
      "photoUrl": "",
      "userId": "12002199636701709339"
     },
     "user_tz": -540
    },
    "id": "f0HQ19ZqSb3C",
    "outputId": "66e2d362-6d55-4916-8f42-aecc4ebae341"
   },
   "outputs": [
    {
     "name": "stdout",
     "output_type": "stream",
     "text": [
      "text : 「ゴルフ婚活」や「料理婚活」など、ただ食事やお酒を共にするだけでは無く、イベント性をプラスした\"婚活\"はもはや定番。共通の話題が生まれやすく、自然と仲良くなれるので、女性からもアプローチがしやすい所が魅力的です。そんな中、結婚情報サイト「youbride（ユーブライド）」が3日、代々木公園の清掃を通して交流を深める、地球にやさしいエコと婚活のイベント「クリーンアップ婚活イベント」を開催しました。エコと婚活の融合なんて、新鮮でイマドキ！清々しい秋晴れの日、集まった「youbride」会員は男性20名、女性20名の計40名。「清掃活動って疲れそう…」と思う方が多いかもしれませんが、「クリーンアップ婚活イベント」はあくまで、外の気持ちの良い空気を楽しみながら、街をキレイにしていく\"プチ\"エコ活動。高すぎるヒールでなければ、ブーツやパンプスでお洒落をして参加できるのが魅力的です。代々木公園の入口から、それぞれチームを作ってイベントがスタート。男性がゴミをつかむトングを、女性がゴミ袋を持つので自然と連携がとれ、2人は急接近。タバコの吸いがらが道に落ちている事が多かった事から「タバコは吸いますか？」「吸いますが、携帯灰皿を持ち歩いています」等と、普通の婚活パーティでは出ない話題も飛び出し、お互いの事をよく知る事が出来ました。エコ活動終了後は、ワインやお料理が楽しめるカフェバーに移動してパーティがスタート。「お疲れ様でした！」の乾杯の後、自由に会話を楽しみました。温泉旅行やギフト券が当たるゲームは、エコ活動で気が合ったパートナー、その時には話せなかった参加者の垣根を越えて大盛り上がり。終始和やかで楽しいパーティに。気の合った者同士はアドレス交換するなど、しっかり婚活の主旨も忘れていませんでした。イベントに参加した方々からは終了後、参加者に感想を聞いたアンケートでは、ほとんどの方が「こういったイベント型の婚活パーティははじめてだったので楽しかったです」「皆さん、自然に関心がある方で色々とお話が出来ました」と好感触。椅子に座ってテーブル越しにお話をするだけでは分からない、人柄を知ることが出来る新鮮な体験だった様です。普通の婚活じゃつまらない、仲良くなれないと嘆く婚活女子の皆さんは今回の「クリーンアップ婚活」の様な“進化型婚活”をチェックしてみてはいかが？・youbride（ユーブライド）・クリーンアップ婚勝イベント - 開催概要\n",
      "true label: 5 peachy\n",
      "pred label: 5 peachy\n"
     ]
    }
   ],
   "source": [
    "index = 30\n",
    "sample_text  = news_test.loc[index, 'text']\n",
    "sample_label = news_test.loc[index, 'label']\n",
    "print('text :', sample_text)\n",
    "print('true label:', sample_label, cat_names[sample_label])\n",
    "\n",
    "x = tokenize(sample_text)\n",
    "# x = x.cuda()  # GPU対応\n",
    "y = loaded_model(x)  # 予測\n",
    "pred = y[0].argmax(-1).item()  # 最大値のインデックス\n",
    "print(\"pred label:\", pred, cat_names[pred])"
   ]
  },
  {
   "cell_type": "markdown",
   "metadata": {
    "id": "V7KkpW207CEK"
   },
   "source": [
    "# 精度評価と性能評価"
   ]
  },
  {
   "cell_type": "code",
   "execution_count": null,
   "metadata": {
    "id": "GNZF3JDVt812"
   },
   "outputs": [],
   "source": [
    "from sklearn.metrics import accuracy_score\n",
    "from tqdm import tqdm\n",
    "test_texts  = news_test['text']\n",
    "test_labels = news_test['label']"
   ]
  },
  {
   "cell_type": "code",
   "execution_count": null,
   "metadata": {
    "colab": {
     "base_uri": "https://localhost:8080/"
    },
    "executionInfo": {
     "elapsed": 2990000,
     "status": "ok",
     "timestamp": 1630887603087,
     "user": {
      "displayName": "Satoru Okiyama",
      "photoUrl": "",
      "userId": "12002199636701709339"
     },
     "user_tz": -540
    },
    "id": "cNJ0PaLZ6GhC",
    "outputId": "348fd55e-48f5-4398-b5db-c201e4c2e944"
   },
   "outputs": [
    {
     "name": "stderr",
     "output_type": "stream",
     "text": [
      "100%|██████████| 1842/1842 [49:49<00:00,  1.62s/it]"
     ]
    },
    {
     "name": "stdout",
     "output_type": "stream",
     "text": [
      "CPU times: user 49min 21s, sys: 40.6 s, total: 50min 1s\n",
      "Wall time: 49min 49s\n"
     ]
    },
    {
     "name": "stderr",
     "output_type": "stream",
     "text": [
      "\n"
     ]
    }
   ],
   "source": [
    "%%time\n",
    "preds = []\n",
    "for text in tqdm(test_texts):\n",
    "    x = tokenize(text)\n",
    "    # x = x.cuda()  # GPU対応\n",
    "    y = loaded_model(x)  # 予測\n",
    "    pred = y[0].argmax(-1).item()  # 最大値のインデックス\n",
    "    preds.append(pred)"
   ]
  },
  {
   "cell_type": "code",
   "execution_count": null,
   "metadata": {
    "colab": {
     "base_uri": "https://localhost:8080/"
    },
    "executionInfo": {
     "elapsed": 16,
     "status": "ok",
     "timestamp": 1630887603088,
     "user": {
      "displayName": "Satoru Okiyama",
      "photoUrl": "",
      "userId": "12002199636701709339"
     },
     "user_tz": -540
    },
    "id": "WvsP1ntC6785",
    "outputId": "3b276da7-6bdc-4822-9399-1ad623fc1001"
   },
   "outputs": [
    {
     "name": "stdout",
     "output_type": "stream",
     "text": [
      "0.9381107491856677\n"
     ]
    }
   ],
   "source": [
    "print(accuracy_score(test_labels, preds))"
   ]
  }
 ],
 "metadata": {
  "colab": {
   "collapsed_sections": [],
   "name": "64_news_cl_test_base_model_with_CPU.ipynb",
   "provenance": [
    {
     "file_id": "1e1klEefz2k6VaS-EW4K74GRMl8eelkG2",
     "timestamp": 1630816371031
    }
   ]
  },
  "kernelspec": {
   "display_name": "Python 3",
   "language": "python",
   "name": "python3"
  },
  "language_info": {
   "codemirror_mode": {
    "name": "ipython",
    "version": 3
   },
   "file_extension": ".py",
   "mimetype": "text/x-python",
   "name": "python",
   "nbconvert_exporter": "python",
   "pygments_lexer": "ipython3",
   "version": "3.9.5"
  },
  "toc": {
   "base_numbering": 1,
   "nav_menu": {},
   "number_sections": true,
   "sideBar": true,
   "skip_h1_title": false,
   "title_cell": "Table of Contents",
   "title_sidebar": "Contents",
   "toc_cell": false,
   "toc_position": {},
   "toc_section_display": true,
   "toc_window_display": false
  },
  "varInspector": {
   "cols": {
    "lenName": 16,
    "lenType": 16,
    "lenVar": 40
   },
   "kernels_config": {
    "python": {
     "delete_cmd_postfix": "",
     "delete_cmd_prefix": "del ",
     "library": "var_list.py",
     "varRefreshCmd": "print(var_dic_list())"
    },
    "r": {
     "delete_cmd_postfix": ") ",
     "delete_cmd_prefix": "rm(",
     "library": "var_list.r",
     "varRefreshCmd": "cat(var_dic_list()) "
    }
   },
   "types_to_exclude": [
    "module",
    "function",
    "builtin_function_or_method",
    "instance",
    "_Feature"
   ],
   "window_display": false
  }
 },
 "nbformat": 4,
 "nbformat_minor": 1
}
